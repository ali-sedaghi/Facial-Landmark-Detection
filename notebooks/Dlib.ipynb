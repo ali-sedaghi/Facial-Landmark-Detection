{
 "nbformat": 4,
 "nbformat_minor": 0,
 "metadata": {
  "colab": {
   "provenance": [],
   "collapsed_sections": []
  },
  "kernelspec": {
   "display_name": "Python 3",
   "name": "python3"
  },
  "language_info": {
   "name": "python"
  },
  "accelerator": "GPU"
 },
 "cells": [
  {
   "cell_type": "markdown",
   "metadata": {
    "id": "6Y2DVzVBQAPO",
    "pycharm": {
     "name": "#%% md\n"
    }
   },
   "source": [
    "# Landmark detection using Dlib"
   ]
  },
  {
   "cell_type": "markdown",
   "source": [
    "## Imports"
   ],
   "metadata": {
    "collapsed": false,
    "pycharm": {
     "name": "#%% md\n"
    },
    "id": "i5deEYMY7Xam"
   }
  },
  {
   "cell_type": "code",
   "metadata": {
    "id": "e2ckmIPOPVWK",
    "pycharm": {
     "name": "#%%\n"
    }
   },
   "source": [
    "import cv2\n",
    "import dlib\n",
    "import numpy as np\n",
    "import matplotlib.pyplot as plt\n",
    "from tqdm import tqdm"
   ],
   "execution_count": 11,
   "outputs": []
  },
  {
   "cell_type": "markdown",
   "source": [
    "## Paths"
   ],
   "metadata": {
    "collapsed": false,
    "pycharm": {
     "name": "#%% md\n"
    },
    "id": "advSqOs37Xap"
   }
  },
  {
   "cell_type": "code",
   "metadata": {
    "id": "yuN-qeWcP8G5",
    "pycharm": {
     "name": "#%%\n"
    }
   },
   "source": [
    "LANDMARK_PREDICTOR_PATH = \"../face_detection_model/shape_predictor_68_face_landmarks.dat\"\n",
    "FACE_PATH = \"../dataset/face.jpg\"\n",
    "FER_PATH = \"../dataset/fer-2013-images.npy\"\n",
    "OUTPUT_PATH = \"../outputs/fer-2013-dlib-landmarks.npz\""
   ],
   "execution_count": 13,
   "outputs": []
  },
  {
   "cell_type": "markdown",
   "source": [
    "## Pipeline"
   ],
   "metadata": {
    "collapsed": false,
    "pycharm": {
     "name": "#%% md\n"
    },
    "id": "3SGu0SKU7Xar"
   }
  },
  {
   "cell_type": "code",
   "metadata": {
    "id": "o_Fg86r2RUmP",
    "pycharm": {
     "name": "#%%\n"
    }
   },
   "source": [
    "def get_grayscale(image):\n",
    "  # Channel is 2 or more\n",
    "  if image.shape[-1] > 1:\n",
    "    gray = cv2.cvtColor(image, cv2.COLOR_RGB2GRAY)\n",
    "  else:\n",
    "    gray = image.astype(np.uint8)\n",
    "  return gray"
   ],
   "execution_count": 14,
   "outputs": []
  },
  {
   "cell_type": "code",
   "metadata": {
    "id": "Nszwbv5nR8HF",
    "pycharm": {
     "name": "#%%\n"
    }
   },
   "source": [
    "def get_detected_faces(gray_image):\n",
    "  # input is a grayscale image\n",
    "  # this function return a list of detected faces\n",
    "  # using dlib face detector\n",
    "  detector = dlib.get_frontal_face_detector()\n",
    "  detected_faces = detector(gray_image, 1)\n",
    "  return detected_faces"
   ],
   "execution_count": 15,
   "outputs": []
  },
  {
   "cell_type": "code",
   "metadata": {
    "id": "Ea6J1c2eS9D3",
    "pycharm": {
     "name": "#%%\n"
    }
   },
   "source": [
    "def get_landmarks(gray_image, gray_face):\n",
    "  # input is a grayscale face\n",
    "  # using dlib shape detector with face landmarks input\n",
    "  predictor = dlib.shape_predictor(LANDMARK_PREDICTOR_PATH)\n",
    "  landmarks = predictor(gray_image, gray_face)\n",
    "  return landmarks"
   ],
   "execution_count": 16,
   "outputs": []
  },
  {
   "cell_type": "code",
   "metadata": {
    "id": "NZld9rl6Ug6-",
    "pycharm": {
     "name": "#%%\n"
    }
   },
   "source": [
    "def generate_part(part_arr_idx, landmarks):\n",
    "  part = []\n",
    "  for n in part_arr_idx:\n",
    "    x = landmarks.part(n - 1).x\n",
    "    y = landmarks.part(n - 1).y\n",
    "    temp = np.array([x, y], np.float32)\n",
    "    part.append(temp)\n",
    "  part = np.array(part, dtype=np.int32)\n",
    "  return part"
   ],
   "execution_count": 17,
   "outputs": []
  },
  {
   "cell_type": "code",
   "metadata": {
    "id": "u_TZ2ktWQrMx",
    "pycharm": {
     "name": "#%%\n"
    }
   },
   "source": [
    "def create_mask(image):\n",
    "  mask = np.zeros_like(image)\n",
    "  gray_image = get_grayscale(image)\n",
    "\n",
    "  detected_faces = get_detected_faces(gray_image)\n",
    "\n",
    "  ## no face detected\n",
    "  if len(detected_faces) == 0:\n",
    "    return mask, False\n",
    "\n",
    "  landmarks = None\n",
    "  for face in detected_faces:\n",
    "    # there is just one face in each image of FER-2013\n",
    "    # so this loop will be executed once\n",
    "    landmarks = get_landmarks(gray_image, face)\n",
    "\n",
    "  # Generate left eye part\n",
    "  left_eye_idx = range(37, 43)\n",
    "  left_eye = generate_part(left_eye_idx, landmarks)\n",
    "\n",
    "  # Generate right eye part\n",
    "  right_eye_idx = range(43, 49)\n",
    "  right_eye = generate_part(right_eye_idx, landmarks)\n",
    "\n",
    "  # Generate nose part\n",
    "  nose_idx = [28, 32, 33, 34, 35, 36]\n",
    "  nose = generate_part(nose_idx, landmarks)\n",
    "\n",
    "  # Generate mouth part\n",
    "  mouth_idx = range(49, 61)\n",
    "  mouth = generate_part(mouth_idx, landmarks)\n",
    "\n",
    "  contours = [left_eye, right_eye, nose, mouth]\n",
    "  for cnt in contours:\n",
    "    for x in range(mask.shape[0]):\n",
    "      for y in range(mask.shape[1]):\n",
    "        ret = cv2.pointPolygonTest(cnt, (y, x), False)\n",
    "        if ret >= 0:\n",
    "            mask[x, y, :] = image[x, y, :]\n",
    "  \n",
    "  return mask, True"
   ],
   "execution_count": 18,
   "outputs": []
  },
  {
   "cell_type": "code",
   "metadata": {
    "id": "ZRZ5ahA-Pu6r",
    "pycharm": {
     "name": "#%%\n"
    }
   },
   "source": [
    "def create_mask_wrapper(image):\n",
    "  mask, flag = create_mask(image)\n",
    "  return mask"
   ],
   "execution_count": 19,
   "outputs": []
  },
  {
   "cell_type": "markdown",
   "metadata": {
    "id": "0b5VSa7sW7MY",
    "pycharm": {
     "name": "#%% md\n"
    }
   },
   "source": [
    "## Test on a single image"
   ]
  },
  {
   "cell_type": "code",
   "metadata": {
    "colab": {
     "base_uri": "https://localhost:8080/",
     "height": 239
    },
    "id": "0Yd6HX3FW-pZ",
    "outputId": "866b37f4-0b64-4962-a9bc-92c2184acd8d",
    "pycharm": {
     "name": "#%%\n"
    }
   },
   "source": [
    "image = cv2.imread(FACE_PATH)\n",
    "image = cv2.cvtColor(image, cv2.COLOR_BGR2RGB)\n",
    "print(image.shape)\n",
    "mask, flag = create_mask(image)\n",
    "print(mask.shape)\n",
    "\n",
    "fig, (ax1, ax2) = plt.subplots(1, 2)\n",
    "ax1.imshow(image)\n",
    "ax2.imshow(mask)\n",
    "plt.show()"
   ],
   "execution_count": 20,
   "outputs": [
    {
     "output_type": "stream",
     "name": "stdout",
     "text": [
      "(525, 525, 3)\n",
      "(525, 525, 3)\n"
     ]
    },
    {
     "output_type": "display_data",
     "data": {
      "text/plain": [
       "<Figure size 432x288 with 2 Axes>"
      ],
      "image/png": "[encoded data removed]"
     },
     "metadata": {
      "needs_background": "light"
     }
    }
   ]
  },
  {
   "cell_type": "markdown",
   "metadata": {
    "id": "zJDwAgBwaHwN",
    "pycharm": {
     "name": "#%% md\n"
    }
   },
   "source": [
    "## FER-2013"
   ]
  },
  {
   "cell_type": "code",
   "metadata": {
    "colab": {
     "base_uri": "https://localhost:8080/"
    },
    "id": "93hUfKwvQe2S",
    "outputId": "6d7b226c-d204-4b49-c511-c57efd9af19c",
    "pycharm": {
     "name": "#%%\n"
    }
   },
   "source": [
    "dataset_images = np.load(FER_PATH)\n",
    "print(dataset_images.shape)"
   ],
   "execution_count": 21,
   "outputs": [
    {
     "output_type": "stream",
     "name": "stdout",
     "text": [
      "(35887, 48, 48, 1)\n"
     ]
    }
   ]
  },
  {
   "cell_type": "code",
   "metadata": {
    "id": "Gxlk8Lg01Y4p",
    "pycharm": {
     "name": "#%%\n"
    }
   },
   "source": [
    "def get_smallset_landmarks(indexes):\n",
    "  sample_size = indexes.shape[0]\n",
    "  smallset_landmarks = np.empty(shape=(sample_size, 48, 48, 1))\n",
    "  unmasked_count = 0\n",
    "  i = 0\n",
    "  for index in tqdm(indexes):\n",
    "    image = dataset_images[index, :, :, :]\n",
    "    mask, flag = create_mask(image)\n",
    "    if not flag:\n",
    "      unmasked_count += 1\n",
    "    smallset_landmarks[i] = mask\n",
    "    i += 1\n",
    "  return smallset_landmarks, unmasked_count"
   ],
   "execution_count": 22,
   "outputs": []
  },
  {
   "cell_type": "code",
   "metadata": {
    "colab": {
     "base_uri": "https://localhost:8080/"
    },
    "id": "2oObQVPEq7JD",
    "outputId": "b0c90dd8-31d0-49b2-b9ce-10a15bf60ac5",
    "pycharm": {
     "name": "#%%\n"
    }
   },
   "source": [
    "indexes = np.arange(0, 20)\n",
    "landmarks, unmasked = get_smallset_landmarks(indexes)\n",
    "print('smallset unmasked count:', unmasked)\n",
    "print('smallset landmarks shape:', landmarks.shape)"
   ],
   "execution_count": 23,
   "outputs": [
    {
     "output_type": "stream",
     "name": "stderr",
     "text": [
      "100%|██████████| 20/20 [00:17<00:00,  1.17it/s]"
     ]
    },
    {
     "output_type": "stream",
     "name": "stdout",
     "text": [
      "smallset unmasked count: 5\n",
      "smallset landmarks shape: (20, 48, 48, 1)\n"
     ]
    },
    {
     "output_type": "stream",
     "name": "stderr",
     "text": [
      "\n"
     ]
    }
   ]
  },
  {
   "cell_type": "code",
   "metadata": {
    "colab": {
     "base_uri": "https://localhost:8080/",
     "height": 202
    },
    "id": "AKGVpQjI5k_j",
    "outputId": "25f7e925-73b9-4d67-d6d4-42e40f9b88b1",
    "pycharm": {
     "name": "#%%\n"
    }
   },
   "source": [
    "index = 0\n",
    "base = 0\n",
    "_, (ax1, ax2) = plt.subplots(1, 2)\n",
    "ax1.imshow(dataset_images[base + index].squeeze(axis=2))\n",
    "ax2.imshow(landmarks[index].squeeze(axis=2))\n",
    "plt.show()"
   ],
   "execution_count": 24,
   "outputs": [
    {
     "output_type": "display_data",
     "data": {
      "text/plain": [
       "<Figure size 432x288 with 2 Axes>"
      ],
      "image/png": "[encoded data removed]"
     },
     "metadata": {
      "needs_background": "light"
     }
    }
   ]
  },
  {
   "cell_type": "code",
   "metadata": {
    "id": "Ou2A9BWb5r7c",
    "pycharm": {
     "name": "#%%\n"
    }
   },
   "source": [
    "# np.savez_compressed(OUTPUT_PATH, landmarks=landmarks)"
   ],
   "execution_count": 25,
   "outputs": []
  }
 ]
}