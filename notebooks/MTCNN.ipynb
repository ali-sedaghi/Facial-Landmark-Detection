{
 "nbformat": 4,
 "nbformat_minor": 0,
 "metadata": {
  "accelerator": "GPU",
  "colab": {
   "name": "FER-2013 Landmark Extraction.ipynb",
   "provenance": [],
   "collapsed_sections": [],
   "toc_visible": true
  },
  "kernelspec": {
   "display_name": "Python 3",
   "name": "python3"
  }
 },
 "cells": [
  {
   "cell_type": "markdown",
   "metadata": {
    "id": "Y5s9dRO7wEnO",
    "pycharm": {
     "name": "#%% md\n"
    }
   },
   "source": [
    "# Landmark detection using MTCNN"
   ]
  },
  {
   "cell_type": "markdown",
   "source": [
    "## Imports"
   ],
   "metadata": {
    "collapsed": false,
    "pycharm": {
     "name": "#%% md\n"
    }
   }
  },
  {
   "cell_type": "code",
   "metadata": {
    "id": "zkkEN-WgwuwW",
    "executionInfo": {
     "status": "ok",
     "timestamp": 1622605553602,
     "user_tz": -270,
     "elapsed": 270,
     "user": {
      "displayName": "Ali Sedaghi",
      "photoUrl": "https://lh3.googleusercontent.com/a-/AOh14Gg5pRBeto2jGd3xIM5JH1pbjIKQLgzyAYCpeXDo5w=s64",
      "userId": "14830083541677520304"
     }
    },
    "pycharm": {
     "name": "#%%\n"
    }
   },
   "source": [
    "import cv2\n",
    "import tensorflow as tf\n",
    "import numpy as np\n",
    "import matplotlib.pyplot as plt"
   ],
   "execution_count": 1,
   "outputs": []
  },
  {
   "cell_type": "markdown",
   "source": [
    "## Paths"
   ],
   "metadata": {
    "collapsed": false,
    "pycharm": {
     "name": "#%% md\n"
    }
   }
  },
  {
   "cell_type": "code",
   "metadata": {
    "colab": {
     "base_uri": "https://localhost:8080/"
    },
    "id": "4eIoeBAacRZ7",
    "executionInfo": {
     "status": "ok",
     "timestamp": 1622605557988,
     "user_tz": -270,
     "elapsed": 1436,
     "user": {
      "displayName": "Ali Sedaghi",
      "photoUrl": "https://lh3.googleusercontent.com/a-/AOh14Gg5pRBeto2jGd3xIM5JH1pbjIKQLgzyAYCpeXDo5w=s64",
      "userId": "14830083541677520304"
     }
    },
    "outputId": "b449979f-3b26-4095-beda-c03f1e83d8d4",
    "pycharm": {
     "name": "#%%\n"
    }
   },
   "source": [
    "POSE_MODEL_PATH = '../pose_model'\n",
    "DNN_PROTO_TEXT_PATH = '../face_detection_model/deploy.prototxt'\n",
    "DNN_MODEL_PATH = '../face_detection_model/res10_300x300_ssd_iter_140000.caffemodel'\n",
    "FER_PATH = \"../dataset/fer-2013-images.npy\"\n",
    "OUTPUT_PATH = \"../outputs/fer-2013-mtcnn-landmarks.npz\""
   ],
   "execution_count": 2,
   "outputs": []
  },
  {
   "cell_type": "markdown",
   "source": [
    "## Face Detector class"
   ],
   "metadata": {
    "collapsed": false,
    "pycharm": {
     "name": "#%% md\n"
    }
   }
  },
  {
   "cell_type": "code",
   "metadata": {
    "id": "6L04aPXBcW99",
    "executionInfo": {
     "status": "ok",
     "timestamp": 1622605560806,
     "user_tz": -270,
     "elapsed": 434,
     "user": {
      "displayName": "Ali Sedaghi",
      "photoUrl": "https://lh3.googleusercontent.com/a-/AOh14Gg5pRBeto2jGd3xIM5JH1pbjIKQLgzyAYCpeXDo5w=s64",
      "userId": "14830083541677520304"
     }
    },
    "pycharm": {
     "name": "#%%\n"
    }
   },
   "source": [
    "class FaceDetector:\n",
    "    \"\"\"Detect human face from image\"\"\"\n",
    "\n",
    "    def __init__(self,\n",
    "                 dnn_proto_text=DNN_PROTO_TEXT_PATH,\n",
    "                 dnn_model=DNN_MODEL_PATH):\n",
    "        \"\"\"Initialization\"\"\"\n",
    "        self.face_net = cv2.dnn.readNetFromCaffe(dnn_proto_text, dnn_model)\n",
    "        self.detection_result = None\n",
    "\n",
    "    def get_face_boxes(self, image, threshold=0.5):\n",
    "        \"\"\"\n",
    "        Get the bounding box of faces in image using dnn.\n",
    "        \"\"\"\n",
    "        rows, cols, _ = image.shape\n",
    "\n",
    "        confidences = []\n",
    "        face_boxes = []\n",
    "\n",
    "        self.face_net.setInput(cv2.dnn.blobFromImage(\n",
    "            image, 1.0, (300, 300), (104.0, 177.0, 123.0), False, False))\n",
    "        detections = self.face_net.forward()\n",
    "\n",
    "        for result in detections[0, 0, :, :]:\n",
    "            confidence = result[2]\n",
    "            if confidence > threshold:\n",
    "                x_left_bottom = int(result[3] * cols)\n",
    "                y_left_bottom = int(result[4] * rows)\n",
    "                x_right_top = int(result[5] * cols)\n",
    "                y_right_top = int(result[6] * rows)\n",
    "                confidences.append(confidence)\n",
    "                face_boxes.append(\n",
    "                    [x_left_bottom, y_left_bottom, x_right_top, y_right_top])\n",
    "\n",
    "        self.detection_result = [face_boxes, confidences]\n",
    "\n",
    "        return confidences, face_boxes\n",
    "\n",
    "    def draw_all_result(self, image):\n",
    "        \"\"\"Draw the detection result on image\"\"\"\n",
    "        for facebox, conf in self.detection_result:\n",
    "            cv2.rectangle(image, (facebox[0], facebox[1]),\n",
    "                          (facebox[2], facebox[3]), (0, 255, 0))\n",
    "            label = \"face: %.4f\" % conf\n",
    "            label_size, base_line = cv2.getTextSize(\n",
    "                label, cv2.FONT_HERSHEY_SIMPLEX, 0.5, 1)\n",
    "\n",
    "            cv2.rectangle(image, (facebox[0], facebox[1] - label_size[1]),\n",
    "                          (facebox[0] + label_size[0],\n",
    "                           facebox[1] + base_line),\n",
    "                          (0, 255, 0), cv2.FILLED)\n",
    "            cv2.putText(image, label, (facebox[0], facebox[1]),\n",
    "                        cv2.FONT_HERSHEY_SIMPLEX, 0.5, (0, 0, 0))"
   ],
   "execution_count": 3,
   "outputs": []
  },
  {
   "cell_type": "markdown",
   "source": [
    "## Mark Detector class"
   ],
   "metadata": {
    "collapsed": false,
    "pycharm": {
     "name": "#%% md\n"
    }
   }
  },
  {
   "cell_type": "code",
   "execution_count": 4,
   "outputs": [],
   "source": [
    "class MarkDetector:\n",
    "    \"\"\"Facial landmark detector by Convolutional Neural Network\"\"\"\n",
    "\n",
    "    def __init__(self, saved_model=POSE_MODEL_PATH):\n",
    "        \"\"\"Initialization\"\"\"\n",
    "        # A face detector is required for mark detection.\n",
    "        self.face_detector = FaceDetector()\n",
    "\n",
    "        self.cnn_input_size = 128\n",
    "        self.marks = None\n",
    "\n",
    "        # Restore model from the saved_model file.\n",
    "        self.model = tf.saved_model.load(saved_model)\n",
    "\n",
    "    @staticmethod\n",
    "    def draw_box(image, boxes, box_color=(255, 255, 255)):\n",
    "        \"\"\"Draw square boxes on image\"\"\"\n",
    "        for box in boxes:\n",
    "            cv2.rectangle(image,\n",
    "                          (box[0], box[1]),\n",
    "                          (box[2], box[3]), box_color, 3)\n",
    "\n",
    "    @staticmethod\n",
    "    def move_box(box, offset):\n",
    "        \"\"\"Move the box to direction specified by vector offset\"\"\"\n",
    "        left_x = box[0] + offset[0]\n",
    "        top_y = box[1] + offset[1]\n",
    "        right_x = box[2] + offset[0]\n",
    "        bottom_y = box[3] + offset[1]\n",
    "        return [left_x, top_y, right_x, bottom_y]\n",
    "\n",
    "    @staticmethod\n",
    "    def get_square_box(box):\n",
    "        \"\"\"Get a square box out of the given box, by expanding it.\"\"\"\n",
    "        left_x = box[0]\n",
    "        top_y = box[1]\n",
    "        right_x = box[2]\n",
    "        bottom_y = box[3]\n",
    "\n",
    "        box_width = right_x - left_x\n",
    "        box_height = bottom_y - top_y\n",
    "\n",
    "        # Check if box is already a square. If not, make it a square.\n",
    "        diff = box_height - box_width\n",
    "        delta = int(abs(diff) / 2)\n",
    "\n",
    "        if diff == 0:                   # Already a square.\n",
    "            return box\n",
    "        elif diff > 0:                  # Height > width, a slim box.\n",
    "            left_x -= delta\n",
    "            right_x += delta\n",
    "            if diff % 2 == 1:\n",
    "                right_x += 1\n",
    "        else:                           # Width > height, a short box.\n",
    "            top_y -= delta\n",
    "            bottom_y += delta\n",
    "            if diff % 2 == 1:\n",
    "                bottom_y += 1\n",
    "\n",
    "        # Make sure box is always square.\n",
    "        assert ((right_x - left_x) == (bottom_y - top_y)), 'Box is not square.'\n",
    "\n",
    "        return [left_x, top_y, right_x, bottom_y]\n",
    "\n",
    "    @staticmethod\n",
    "    def box_in_image(box, image):\n",
    "        \"\"\"Check if the box is in image\"\"\"\n",
    "        rows = image.shape[0]\n",
    "        cols = image.shape[1]\n",
    "        return box[0] >= 0 and box[1] >= 0 and box[2] <= cols and box[3] <= rows\n",
    "\n",
    "    def extract_cnn_facebox(self, image):\n",
    "        \"\"\"Extract face area from image.\"\"\"\n",
    "        _, raw_boxes = self.face_detector.get_face_boxes(\n",
    "            image=image, threshold=0.9)\n",
    "\n",
    "        a = []\n",
    "        for box in raw_boxes:\n",
    "            # Move box down.\n",
    "            # diff_height_width = (box[3] - box[1]) - (box[2] - box[0])\n",
    "            offset_y = int(abs((box[3] - box[1]) * 0.1))\n",
    "            box_moved = self.move_box(box, [0, offset_y])\n",
    "\n",
    "            # Make box square.\n",
    "            facebox = self.get_square_box(box_moved)\n",
    "\n",
    "            if self.box_in_image(facebox, image):\n",
    "                a.append(facebox)\n",
    "\n",
    "        return a\n",
    "\n",
    "    def detect_marks(self, image_np):\n",
    "        \"\"\"Detect marks from image\"\"\"\n",
    "\n",
    "        # # Actual detection.\n",
    "        predictions = self.model.signatures[\"predict\"](\n",
    "            tf.constant(image_np, dtype=tf.uint8))\n",
    "\n",
    "        # Convert predictions to landmarks.\n",
    "        marks = np.array(predictions['output']).flatten()[:136]\n",
    "        marks = np.reshape(marks, (-1, 2))\n",
    "\n",
    "        return marks\n",
    "\n",
    "    @staticmethod\n",
    "    def draw_marks(image, marks):\n",
    "        \"\"\"Draw mark points on image\"\"\"\n",
    "        for mark in marks:\n",
    "            image[int(mark[1])][int(mark[0])] = [100, 20, 60]"
   ],
   "metadata": {
    "collapsed": false,
    "pycharm": {
     "name": "#%%\n"
    }
   }
  },
  {
   "cell_type": "markdown",
   "source": [
    "## Model Wrapper"
   ],
   "metadata": {
    "collapsed": false,
    "pycharm": {
     "name": "#%% md\n"
    }
   }
  },
  {
   "cell_type": "code",
   "metadata": {
    "id": "zmNCqfHj0hYB",
    "executionInfo": {
     "status": "ok",
     "timestamp": 1622605563833,
     "user_tz": -270,
     "elapsed": 1015,
     "user": {
      "displayName": "Ali Sedaghi",
      "photoUrl": "https://lh3.googleusercontent.com/a-/AOh14Gg5pRBeto2jGd3xIM5JH1pbjIKQLgzyAYCpeXDo5w=s64",
      "userId": "14830083541677520304"
     }
    },
    "pycharm": {
     "name": "#%%\n"
    }
   },
   "source": [
    "# Keep only RoI of dataset images\n",
    "mark_detector = MarkDetector()\n",
    "\n",
    "def apply_region_on_image(target_image, source_image, landmarks, padding = 3):\n",
    "  top_left = np.min(landmarks, axis=0)\n",
    "  bottom_right = np.max(landmarks, axis=0)\n",
    "  top = int(top_left[1]) - padding\n",
    "  bottom = int(bottom_right[1]) + padding\n",
    "  left = int(top_left[0]) - padding\n",
    "  right = int(bottom_right[0]) + padding\n",
    "\n",
    "  target_image[top:bottom, left:right] = source_image[top:bottom, left:right]\n",
    "  return target_image\n",
    "\n",
    "def apply_roi(data):\n",
    "  ROI_applied_images = []\n",
    "  for i in range(len(data)):\n",
    "    img = (np.repeat(data[i], 3, axis=2)).astype(int)\n",
    "    facebox = [0, 0, 47, 47]\n",
    "    marks = mark_detector.detect_marks([img])\n",
    "    marks *= (facebox[2] - facebox[0])\n",
    "    marks[:, 0] += facebox[0]\n",
    "    marks[:, 1] += facebox[1]\n",
    "\n",
    "    ROI_applied_image = np.ones_like(data[i])\n",
    "\n",
    "    ROI_applied_image = apply_region_on_image(ROI_applied_image, data[i], marks[27:36], 2) # Nose\n",
    "    ROI_applied_image = apply_region_on_image(ROI_applied_image, data[i], marks[36:42], 2) # Right eye\n",
    "    ROI_applied_image = apply_region_on_image(ROI_applied_image, data[i], marks[42:48], 2) # Left eye\n",
    "    ROI_applied_image = apply_region_on_image(ROI_applied_image, data[i], marks[49:68], 2) # Lips\n",
    "  \n",
    "    ROI_applied_images.append(ROI_applied_image)\n",
    "\n",
    "  return np.array(ROI_applied_images)"
   ],
   "execution_count": 5,
   "outputs": [
    {
     "name": "stdout",
     "output_type": "stream",
     "text": [
      "WARNING:tensorflow:Unable to create a python object for variable <tf.Variable 'global_step:0' shape=() dtype=int64_ref> because it is a reference variable. It may not be visible to training APIs. If this is a problem, consider rebuilding the SavedModel after running tf.compat.v1.enable_resource_variables().\n",
      "WARNING:tensorflow:Unable to create a python object for variable <tf.Variable 'layer1/conv2d/kernel:0' shape=(3, 3, 3, 32) dtype=float32_ref> because it is a reference variable. It may not be visible to training APIs. If this is a problem, consider rebuilding the SavedModel after running tf.compat.v1.enable_resource_variables().\n",
      "WARNING:tensorflow:Unable to create a python object for variable <tf.Variable 'layer1/conv2d/bias:0' shape=(32,) dtype=float32_ref> because it is a reference variable. It may not be visible to training APIs. If this is a problem, consider rebuilding the SavedModel after running tf.compat.v1.enable_resource_variables().\n",
      "WARNING:tensorflow:Unable to create a python object for variable <tf.Variable 'layer2/conv2d/kernel:0' shape=(3, 3, 32, 64) dtype=float32_ref> because it is a reference variable. It may not be visible to training APIs. If this is a problem, consider rebuilding the SavedModel after running tf.compat.v1.enable_resource_variables().\n",
      "WARNING:tensorflow:Unable to create a python object for variable <tf.Variable 'layer2/conv2d/bias:0' shape=(64,) dtype=float32_ref> because it is a reference variable. It may not be visible to training APIs. If this is a problem, consider rebuilding the SavedModel after running tf.compat.v1.enable_resource_variables().\n",
      "WARNING:tensorflow:Unable to create a python object for variable <tf.Variable 'global_step:0' shape=() dtype=int64_ref> because it is a reference variable. It may not be visible to training APIs. If this is a problem, consider rebuilding the SavedModel after running tf.compat.v1.enable_resource_variables().\n",
      "WARNING:tensorflow:Unable to create a python object for variable <tf.Variable 'layer1/conv2d/kernel:0' shape=(3, 3, 3, 32) dtype=float32_ref> because it is a reference variable. It may not be visible to training APIs. If this is a problem, consider rebuilding the SavedModel after running tf.compat.v1.enable_resource_variables().\n",
      "WARNING:tensorflow:Unable to create a python object for variable <tf.Variable 'layer1/conv2d/bias:0' shape=(32,) dtype=float32_ref> because it is a reference variable. It may not be visible to training APIs. If this is a problem, consider rebuilding the SavedModel after running tf.compat.v1.enable_resource_variables().\n",
      "WARNING:tensorflow:Unable to create a python object for variable <tf.Variable 'layer2/conv2d/kernel:0' shape=(3, 3, 32, 64) dtype=float32_ref> because it is a reference variable. It may not be visible to training APIs. If this is a problem, consider rebuilding the SavedModel after running tf.compat.v1.enable_resource_variables().\n",
      "WARNING:tensorflow:Unable to create a python object for variable <tf.Variable 'layer2/conv2d/bias:0' shape=(64,) dtype=float32_ref> because it is a reference variable. It may not be visible to training APIs. If this is a problem, consider rebuilding the SavedModel after running tf.compat.v1.enable_resource_variables().\n",
      "WARNING:tensorflow:Unable to create a python object for variable <tf.Variable 'global_step:0' shape=() dtype=int64_ref> because it is a reference variable. It may not be visible to training APIs. If this is a problem, consider rebuilding the SavedModel after running tf.compat.v1.enable_resource_variables().\n",
      "WARNING:tensorflow:Unable to create a python object for variable <tf.Variable 'layer1/conv2d/kernel:0' shape=(3, 3, 3, 32) dtype=float32_ref> because it is a reference variable. It may not be visible to training APIs. If this is a problem, consider rebuilding the SavedModel after running tf.compat.v1.enable_resource_variables().\n",
      "WARNING:tensorflow:Unable to create a python object for variable <tf.Variable 'layer1/conv2d/bias:0' shape=(32,) dtype=float32_ref> because it is a reference variable. It may not be visible to training APIs. If this is a problem, consider rebuilding the SavedModel after running tf.compat.v1.enable_resource_variables().\n",
      "WARNING:tensorflow:Unable to create a python object for variable <tf.Variable 'layer2/conv2d/kernel:0' shape=(3, 3, 32, 64) dtype=float32_ref> because it is a reference variable. It may not be visible to training APIs. If this is a problem, consider rebuilding the SavedModel after running tf.compat.v1.enable_resource_variables().\n",
      "WARNING:tensorflow:Unable to create a python object for variable <tf.Variable 'layer2/conv2d/bias:0' shape=(64,) dtype=float32_ref> because it is a reference variable. It may not be visible to training APIs. If this is a problem, consider rebuilding the SavedModel after running tf.compat.v1.enable_resource_variables().\n",
      "WARNING:tensorflow:Unable to create a python object for variable <tf.Variable 'global_step:0' shape=() dtype=int64_ref> because it is a reference variable. It may not be visible to training APIs. If this is a problem, consider rebuilding the SavedModel after running tf.compat.v1.enable_resource_variables().\n",
      "WARNING:tensorflow:Unable to create a python object for variable <tf.Variable 'layer1/conv2d/kernel:0' shape=(3, 3, 3, 32) dtype=float32_ref> because it is a reference variable. It may not be visible to training APIs. If this is a problem, consider rebuilding the SavedModel after running tf.compat.v1.enable_resource_variables().\n",
      "WARNING:tensorflow:Unable to create a python object for variable <tf.Variable 'layer1/conv2d/bias:0' shape=(32,) dtype=float32_ref> because it is a reference variable. It may not be visible to training APIs. If this is a problem, consider rebuilding the SavedModel after running tf.compat.v1.enable_resource_variables().\n",
      "WARNING:tensorflow:Unable to create a python object for variable <tf.Variable 'layer2/conv2d/kernel:0' shape=(3, 3, 32, 64) dtype=float32_ref> because it is a reference variable. It may not be visible to training APIs. If this is a problem, consider rebuilding the SavedModel after running tf.compat.v1.enable_resource_variables().\n",
      "WARNING:tensorflow:Unable to create a python object for variable <tf.Variable 'layer2/conv2d/bias:0' shape=(64,) dtype=float32_ref> because it is a reference variable. It may not be visible to training APIs. If this is a problem, consider rebuilding the SavedModel after running tf.compat.v1.enable_resource_variables().\n"
     ]
    }
   ]
  },
  {
   "cell_type": "markdown",
   "metadata": {
    "id": "j_dKo-uDv_xv",
    "pycharm": {
     "name": "#%% md\n"
    }
   },
   "source": [
    "## FER-2013"
   ]
  },
  {
   "cell_type": "code",
   "metadata": {
    "id": "nCg_PkLScM6A",
    "executionInfo": {
     "status": "ok",
     "timestamp": 1622605574289,
     "user_tz": -270,
     "elapsed": 7,
     "user": {
      "displayName": "Ali Sedaghi",
      "photoUrl": "https://lh3.googleusercontent.com/a-/AOh14Gg5pRBeto2jGd3xIM5JH1pbjIKQLgzyAYCpeXDo5w=s64",
      "userId": "14830083541677520304"
     }
    },
    "pycharm": {
     "name": "#%%\n"
    }
   },
   "source": [
    "dataset_images = np.load(FER_PATH)\n",
    "print(dataset_images.shape)"
   ],
   "execution_count": 6,
   "outputs": [
    {
     "name": "stdout",
     "output_type": "stream",
     "text": [
      "(35887, 48, 48, 1)\n"
     ]
    }
   ]
  },
  {
   "cell_type": "code",
   "metadata": {
    "id": "WQke3jLNwe2F",
    "colab": {
     "base_uri": "https://localhost:8080/"
    },
    "executionInfo": {
     "status": "ok",
     "timestamp": 1622605574290,
     "user_tz": -270,
     "elapsed": 7,
     "user": {
      "displayName": "Ali Sedaghi",
      "photoUrl": "https://lh3.googleusercontent.com/a-/AOh14Gg5pRBeto2jGd3xIM5JH1pbjIKQLgzyAYCpeXDo5w=s64",
      "userId": "14830083541677520304"
     }
    },
    "outputId": "1ed00d28-30a1-42d3-bded-e5bdbf2ffffd",
    "pycharm": {
     "name": "#%%\n"
    }
   },
   "source": [
    "ROI_applied_dataset_images = apply_roi(dataset_images)\n",
    "print(ROI_applied_dataset_images.shape)"
   ],
   "execution_count": 7,
   "outputs": [
    {
     "name": "stdout",
     "output_type": "stream",
     "text": [
      "(35887, 48, 48, 1)\n"
     ]
    }
   ]
  },
  {
   "cell_type": "code",
   "metadata": {
    "colab": {
     "base_uri": "https://localhost:8080/",
     "height": 219
    },
    "id": "Y9yFjMv62eGo",
    "executionInfo": {
     "status": "ok",
     "timestamp": 1622606171165,
     "user_tz": -270,
     "elapsed": 1101,
     "user": {
      "displayName": "Ali Sedaghi",
      "photoUrl": "https://lh3.googleusercontent.com/a-/AOh14Gg5pRBeto2jGd3xIM5JH1pbjIKQLgzyAYCpeXDo5w=s64",
      "userId": "14830083541677520304"
     }
    },
    "outputId": "ea2b497c-fc0d-4ad3-d6c0-4fec983b1b35",
    "pycharm": {
     "name": "#%%\n"
    }
   },
   "source": [
    "index = 32\n",
    "_, (ax1, ax2) = plt.subplots(1, 2)\n",
    "ax1.imshow(dataset_images[index].squeeze(axis=2))\n",
    "ax2.imshow(ROI_applied_dataset_images[index].squeeze(axis=2))\n",
    "plt.show()"
   ],
   "execution_count": 8,
   "outputs": [
    {
     "data": {
      "text/plain": "<Figure size 640x480 with 2 Axes>",
      "image/png": "[encoded data removed]"
     },
     "metadata": {},
     "output_type": "display_data"
    }
   ]
  },
  {
   "cell_type": "code",
   "metadata": {
    "id": "PhhOmSVq3UZM",
    "pycharm": {
     "name": "#%%\n"
    }
   },
   "source": [
    "np.savez_compressed(OUTPUT_PATH, landmarks=ROI_applied_dataset_images)"
   ],
   "execution_count": 9,
   "outputs": []
  }
 ]
}